{
 "cells": [
  {
   "cell_type": "markdown",
   "id": "0725eb91",
   "metadata": {},
   "source": [
    "# Linear Programming Problems\n",
    "## Producing Desks and Tables\n",
    "\n",
    "* $x_1$ = Number of desks produced in a day\n",
    "* $x_2$ = Number of tables produced in a day\n",
    "* Desks sell for \\\\$700 each while tables sell for \\\\$900 each\n",
    "* Desks require 3 pieces of wood each while tables use 5 pieces of wood each; we have 3,600 pieces of wood available per day\n",
    "* Each desk takes 1 labor hour while each table takes 2 labor hours; we have 1,600 labor hours available per day\n",
    "* Each desk requires 50 minutes of production time and each table requires 20 minutes of production time; we have 48,000 minutes of production time per day\n",
    "\n",
    "\\begin{align}\n",
    "max ~ & 700x_1 + 900x_2 \\\\\n",
    "s.t. ~ & 3x_1 + 5x_2 \\leq 3600 & \\text{(wood)} \\\\\n",
    "& x_1 + x_2 \\leq 1600 & \\text{(labor hours)} \\\\\n",
    "& 50x_1 + 20x_2 \\leq 48000 & \\text{(production time (min))} \\\\\n",
    "& x_i \\geq 0\n",
    "\\end{align}"
   ]
  },
  {
   "cell_type": "code",
   "execution_count": 1,
   "id": "485e6b72",
   "metadata": {},
   "outputs": [
    {
     "name": "stdout",
     "output_type": "stream",
     "text": [
      "Number of variables = 2\n",
      "Number of constraints = 3\n",
      "Objective value = 789,473.68\n",
      "x[0] = 884.21\n",
      "x[1] = 189.47\n",
      "\n",
      "Problem solved in 13.000000 milliseconds\n",
      "Problem solved in 3 iterations\n",
      "Problem solved in -1 branch-and-bound nodes\n"
     ]
    }
   ],
   "source": [
    "import create_data_model as cdm\n",
    "import automate_lp as alp\n",
    "\n",
    "constraints = [3600, 1600, 48000]\n",
    "cont_coeffs = [\n",
    "    [3, 5],\n",
    "    [1, 1],\n",
    "    [50, 20]\n",
    "]\n",
    "obj_coeffs = [700, 900]\n",
    "signs = ['<='] * len(constraints)\n",
    "\n",
    "data = cdm.create_lp_data_model(constraints, cont_coeffs, obj_coeffs, signs)\n",
    "alp.automate_lpMax(data)"
   ]
  },
  {
   "cell_type": "markdown",
   "id": "56bf6027",
   "metadata": {},
   "source": [
    "## Personnel Scheduling\n",
    "\n",
    "$x_i$ = Number of people who start to work on day $i$ for 5 consecutive days\n",
    "\n",
    "\\begin{align}\n",
    "    \\begin{matrix}\n",
    "        \\text{Day} & \\text{Minimum workers needed} \\\\\n",
    "        \\text{Mon} & 110 \\\\\n",
    "        \\text{Tues} & 80 \\\\\n",
    "        \\text{Wed} & 150 \\\\\n",
    "        \\text{Thurs} & 30 \\\\\n",
    "        \\text{Fri} & 70 \\\\\n",
    "        \\text{Sat} & 160 \\\\\n",
    "        \\text{Sun} & 120 \\\\\n",
    "    \\end{matrix}\n",
    "\\end{align}\n",
    "\n",
    "\\begin{align}\n",
    "min ~ & x_1 + x_2 + x_3 + x_4 + x_5 + x_6 + x_7 \\\\\n",
    "s.t. ~ & x_1 + x_4 + x_5 + x_6 + x_7 \\geq 110 \\\\\n",
    "& x_1 + x_2 + x_5 + x_6+ x_7 \\geq 80 \\\\\n",
    "& x_1 + x_2 + x_3 + x_6 + x_7 \\geq 150 \\\\\n",
    "& x_1 + x_2 + x_3 + x_4 + x_7 \\geq 30 \\\\\n",
    "& x_1 + x_2 + x_3 + x_4 + x_5 \\geq 70 \\\\\n",
    "& x_2 + x_3 + x_4 + x_5 + x_6 \\geq 160 \\\\\n",
    "& x_3 + x_4 + x_5 + x_6 + x_7 \\geq 120 \\\\\n",
    "& x_i \\geq 0, ~ \\forall i = 1, ..., 7\n",
    "\\end{align}"
   ]
  },
  {
   "cell_type": "code",
   "execution_count": 2,
   "id": "881cfb8d",
   "metadata": {
    "scrolled": true
   },
   "outputs": [
    {
     "name": "stdout",
     "output_type": "stream",
     "text": [
      "Number of variables = 7\n",
      "Number of constraints = 7\n",
      "Objective value = 163.33\n",
      "x[0] = 3.33\n",
      "x[1] = 0.00\n",
      "x[2] = 53.33\n",
      "x[3] = 0.00\n",
      "x[4] = 13.33\n",
      "x[5] = 93.33\n",
      "x[6] = 0.00\n",
      "\n",
      "Problem solved in 1.000000 milliseconds\n",
      "Problem solved in 7 iterations\n",
      "Problem solved in -1 branch-and-bound nodes\n"
     ]
    }
   ],
   "source": [
    "constraints = [110, 80, 150, 30, 70, 160, 120]\n",
    "cont_coeffs = [\n",
    "    [1, 0, 0, 1, 1, 1, 1],\n",
    "    [1, 1, 0, 0, 1, 1, 1],\n",
    "    [1, 1, 1, 0, 0, 1, 1],\n",
    "    [1, 1, 1, 1, 0, 0, 1],\n",
    "    [1, 1, 1, 1, 1, 0, 0],\n",
    "    [0, 1, 1, 1, 1, 1, 0],\n",
    "    [0, 0, 1, 1, 1, 1, 1]\n",
    "]\n",
    "obj_coeffs = [1, 1, 1, 1, 1, 1, 1]\n",
    "signs = ['>='] * len(constraints)\n",
    "\n",
    "data = cdm.create_lp_data_model(constraints, cont_coeffs, obj_coeffs, signs)\n",
    "alp.automate_lpMin(data)"
   ]
  },
  {
   "cell_type": "markdown",
   "id": "cf5b9b23",
   "metadata": {},
   "source": [
    "# Integer Programming Problems\n",
    "## Personnel Scheduling\n",
    "\n",
    "$x_i$ = Number of people who start to work on day $i$ for 5 consecutive days\n",
    "\n",
    "\\begin{align}\n",
    "    \\begin{matrix}\n",
    "        \\text{Day} & \\text{Minimum workers needed} \\\\\n",
    "        \\text{Mon} & 110 \\\\\n",
    "        \\text{Tues} & 80 \\\\\n",
    "        \\text{Wed} & 150 \\\\\n",
    "        \\text{Thurs} & 30 \\\\\n",
    "        \\text{Fri} & 70 \\\\\n",
    "        \\text{Sat} & 160 \\\\\n",
    "        \\text{Sun} & 120 \\\\\n",
    "    \\end{matrix}\n",
    "\\end{align}\n",
    "\n",
    "\\begin{align}\n",
    "min ~ & x_1 + x_2 + x_3 + x_4 + x_5 + x_6 + x_7 \\\\\n",
    "s.t. ~ & x_1 + x_4 + x_5 + x_6 + x_7 \\geq 110 \\\\\n",
    "& x_1 + x_2 + x_5 + x_6+ x_7 \\geq 80 \\\\\n",
    "& x_1 + x_2 + x_3 + x_6 + x_7 \\geq 150 \\\\\n",
    "& x_1 + x_2 + x_3 + x_4 + x_7 \\geq 30 \\\\\n",
    "& x_1 + x_2 + x_3 + x_4 + x_5 \\geq 70 \\\\\n",
    "& x_2 + x_3 + x_4 + x_5 + x_6 \\geq 160 \\\\\n",
    "& x_3 + x_4 + x_5 + x_6 + x_7 \\geq 120 \\\\\n",
    "& x_i \\geq \\mathbb{Z}^+, ~ \\forall i = 1, ..., 7\n",
    "\\end{align}"
   ]
  },
  {
   "cell_type": "code",
   "execution_count": 3,
   "id": "e9a0968a",
   "metadata": {
    "scrolled": true
   },
   "outputs": [
    {
     "name": "stdout",
     "output_type": "stream",
     "text": [
      "Number of variables = 7\n",
      "Number of constraints = 7\n",
      "Objective value = 163\n",
      "x[0] = 3\n",
      "x[1] = 40\n",
      "x[2] = 13\n",
      "x[3] = 13\n",
      "x[4] = 0\n",
      "x[5] = 93\n",
      "x[6] = 0\n",
      "\n",
      "Problem solved in 73.000000 milliseconds\n",
      "Problem solved in 5 iterations\n",
      "Problem solved in 1 branch-and-bound nodes\n"
     ]
    }
   ],
   "source": [
    "import automate_ip as aip\n",
    "\n",
    "aip.automate_ipMin(data)"
   ]
  },
  {
   "cell_type": "markdown",
   "id": "88730d81",
   "metadata": {},
   "source": [
    "## Capacitated Facility Location (Fixed Charge Problem)\n",
    "\n",
    "\\begin{align}\n",
    "min ~ & \\sum_{j = 1}^m f_jy_j + \\sum_{i = 1}^n \\sum_{j = 1}^m c_{ij}x_{ij} & \\text{Minimize fixed facility costs and transportation costs} \\\\\n",
    "& \\sum_{j = 1}^m x_{ij} = D_i, \\forall i = 1, ..., n & \\text{All demand fulfilled} \\\\\n",
    "& \\sum_{i = 1}^n x_{ij} \\leq M_jy_j, \\forall j = 1, ..., m & \\text{Capacity constraint and only allow demand from opened facilities} \\\\\n",
    "& x_{ij} \\leq D_iy_i & \\forall i = 1, ..., n; j = 1, ..., m \\\\\n",
    "& x_{ij} \\geq 0 & \\forall i = 1, ..., n; j = 1, ..., m \\\\\n",
    "& y_j \\in \\{0, 1\\} & \\forall j = 1, ..., m\n",
    "\\end{align}"
   ]
  },
  {
   "cell_type": "code",
   "execution_count": 4,
   "id": "0bc993f8",
   "metadata": {
    "scrolled": true
   },
   "outputs": [
    {
     "name": "stdout",
     "output_type": "stream",
     "text": [
      "The DestOrigin_('Atlanta',_'Cleveland') route can transport 80 products.\n",
      "The DestOrigin_('Baltimore',_'Cleveland') route can transport 270 products.\n",
      "The DestOrigin_('Chicago',_'Cleveland') route can transport 150 products.\n",
      "The DestOrigin_('Chicago',_'Middletown') route can transport 100 products.\n",
      "The DestOrigin_('Dayton',_'Middletown') route can transport 200 products.\n",
      "The DestOrigin_('Los_Angeles',_'Middletown') route can transport 180 products.\n",
      "The UseLocation_Cleveland site should be used for facility construction.\n",
      "The UseLocation_Middletown site should be used for facility construction.\n",
      "The minimum total annual cost is $5,730.00.\n",
      "Problem solved in 123.000000 milliseconds\n",
      "Problem solved in -1 iterations\n",
      "Problem solved in -1 branch-and-bound nodes\n"
     ]
    }
   ],
   "source": [
    "import create_data_model as cdm\n",
    "import automate_flp as aflp\n",
    "\n",
    "# Sets\n",
    "CUSTOMERS = ['Atlanta', 'Baltimore', 'Chicago', 'Dayton', 'Los Angeles']         # Destination/Market\n",
    "FACILITY = ['Coshocton', 'Cleveland', 'Middletown']                              # Origin/Facility\n",
    "\n",
    "# Parameters\n",
    "## Market Demand\n",
    "MD = [80, 270, 250, 200, 180]\n",
    "\n",
    "## Fixed Costs\n",
    "FC = [1000, 1000, 1000]\n",
    "\n",
    "## Maximum capacity\n",
    "Capacity = [500, 500, 500]\n",
    "\n",
    "## Transportation Costs\n",
    "TransportRates = [\n",
    "    [4, 5, 6, 8, 10],  # Coshocton to CUSTOMERS\n",
    "    [6, 4, 3, 5, 8],   # Cleveland to CUSTOMERS\n",
    "    [9, 7, 4, 3, 4]    # Middletown to CUSTOMERS\n",
    "]\n",
    "\n",
    "data = cdm.create_ip_data_model(CUSTOMERS, FACILITY, MD, FC, Capacity, TransportRates)\n",
    "aflp.CFL(data)"
   ]
  },
  {
   "cell_type": "markdown",
   "id": "ff5d03e6",
   "metadata": {},
   "source": [
    "## Resource Planning\n",
    "\n",
    "You have 7 products. Each product requires 3 types of materials. You're have a supply limit of said material while each product uses different amounts of each material. In addition, each product sells for a different price and we want to maximize profit through a linear integer program.\n",
    "\n",
    "\\begin{align}\n",
    "max ~ & \\sum_{i = 1}^n C_ix_i  \\\\\n",
    "& \\sum_{i = 1}^n c_ix_i \\leq D,  ~ \\text{Supply limit}\\\\\n",
    "& x_i \\geq 0, i = \\{1, 2, ..., n\\}\n",
    "\\end{align}"
   ]
  },
  {
   "cell_type": "code",
   "execution_count": 11,
   "id": "876d5a9b",
   "metadata": {
    "scrolled": true
   },
   "outputs": [
    {
     "name": "stdout",
     "output_type": "stream",
     "text": [
      "Number of variables = 7\n",
      "Number of constraints = 3\n",
      "Objective value = 3404\n",
      "x[0] = 7\n",
      "x[1] = 0\n",
      "x[2] = 0\n",
      "x[3] = 17\n",
      "x[4] = 0\n",
      "x[5] = 0\n",
      "x[6] = 9\n",
      "\n",
      "Problem solved in 117.000000 milliseconds\n",
      "Problem solved in 4 iterations\n",
      "Problem solved in 1 branch-and-bound nodes\n"
     ]
    }
   ],
   "source": [
    "constraints = [100, 150, 200]\n",
    "cont_coeffs = [\n",
    "    [0, 5, 5, 4, 8, 5, 3],\n",
    "    [3, 10, 3, 6, 2, 2, 2],\n",
    "    [10, 10, 9, 3, 8, 10, 7]\n",
    "]\n",
    "obj_coeffs = [100, 120, 135, 90, 125, 110, 105]\n",
    "signs = [\"<=\"] * len(constraints)\n",
    "\n",
    "data = cdm.create_lp_data_model(constraints, cont_coeffs, obj_coeffs, signs)\n",
    "aip.automate_ipMax(data)"
   ]
  }
 ],
 "metadata": {
  "kernelspec": {
   "display_name": "Python 3 (ipykernel)",
   "language": "python",
   "name": "python3"
  },
  "language_info": {
   "codemirror_mode": {
    "name": "ipython",
    "version": 3
   },
   "file_extension": ".py",
   "mimetype": "text/x-python",
   "name": "python",
   "nbconvert_exporter": "python",
   "pygments_lexer": "ipython3",
   "version": "3.8.8"
  }
 },
 "nbformat": 4,
 "nbformat_minor": 5
}
