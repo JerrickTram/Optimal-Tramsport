{
 "cells": [
  {
   "cell_type": "markdown",
   "id": "b6d1fa57",
   "metadata": {},
   "source": [
    "## Capacitated Facility Location (Fixed Charge Problem)\n",
    "\n",
    "\\begin{align}\n",
    "min ~ & \\sum_{j = 1}^m f_jy_j + \\sum_{i = 1}^n \\sum_{j = 1}^m c_{ij}x_{ij} & \\text{Minimize fixed facility costs and transportation costs} \\\\\n",
    "& \\sum_{j = 1}^m x_{ij} = D_i, \\forall i = 1, ..., n & \\text{All demand fulfilled} \\\\\n",
    "& \\sum_{i = 1}^n x_{ij} \\leq M_jy_j, \\forall j = 1, ..., m & \\text{Capacity constraint and only allow demand from opened facilities} \\\\\n",
    "& x_{ij} \\leq D_iy_i & \\forall i = 1, ..., n; j = 1, ..., m \\\\\n",
    "& x_{ij} \\geq 0 & \\forall i = 1, ..., n; j = 1, ..., m \\\\\n",
    "& y_j \\in \\{0, 1\\} & \\forall j = 1, ..., m ~ (\\text{Whether to constru a facility or not})\n",
    "\\end{align}"
   ]
  },
  {
   "cell_type": "code",
   "execution_count": 4,
   "id": "2779dc9d",
   "metadata": {},
   "outputs": [
    {
     "name": "stdout",
     "output_type": "stream",
     "text": [
      "The DestOrigin_('Atlanta',_'Cleveland') route can transport 80 products.\n",
      "The DestOrigin_('Baltimore',_'Cleveland') route can transport 270 products.\n",
      "The DestOrigin_('Chicago',_'Cleveland') route can transport 150 products.\n",
      "The DestOrigin_('Chicago',_'Middletown') route can transport 100 products.\n",
      "The DestOrigin_('Dayton',_'Middletown') route can transport 200 products.\n",
      "The DestOrigin_('Newport',_'Middletown') route can transport 180 products.\n",
      "The UseLocation_Cleveland site should be used for facility construction.\n",
      "The UseLocation_Middletown site should be used for facility construction.\n",
      "The minimum total annual cost is $5,730.00.\n",
      "Problem solved in 75.000000 milliseconds\n",
      "Problem solved in -1 iterations\n",
      "Problem solved in -1 branch-and-bound nodes\n"
     ]
    }
   ],
   "source": [
    "import create_data_model as cdm\n",
    "import automate_flp as aflp\n",
    "\n",
    "# Sets\n",
    "CUSTOMERS = ['Atlanta', 'Baltimore', 'Chicago', 'Dayton', 'Newport']         # Destination/Market\n",
    "FACILITY = ['Coshocton', 'Cleveland', 'Middletown']                          # Origin/Facility\n",
    "\n",
    "# Parameters\n",
    "## Market Demand\n",
    "MD = [80, 270, 250, 200, 180]\n",
    "\n",
    "## Fixed Costs\n",
    "FC = [1000, 1000, 1000]\n",
    "\n",
    "## Maximum capacity\n",
    "Capacity = [500, 500, 500]\n",
    "\n",
    "## Transportation Costs\n",
    "TransportRates = [\n",
    "    [4, 5, 6, 8, 10],  # Coshocton to CUSTOMERS\n",
    "    [6, 4, 3, 5, 8],   # Cleveland to CUSTOMERS\n",
    "    [9, 7, 4, 3, 4]    # Middletown to CUSTOMERS\n",
    "]\n",
    "\n",
    "data = cdm.create_ip_data_model(CUSTOMERS, FACILITY, MD, FC, Capacity, TransportRates)\n",
    "aflp.CFL(data)"
   ]
  }
 ],
 "metadata": {
  "kernelspec": {
   "display_name": "Python 3 (ipykernel)",
   "language": "python",
   "name": "python3"
  },
  "language_info": {
   "codemirror_mode": {
    "name": "ipython",
    "version": 3
   },
   "file_extension": ".py",
   "mimetype": "text/x-python",
   "name": "python",
   "nbconvert_exporter": "python",
   "pygments_lexer": "ipython3",
   "version": "3.8.8"
  }
 },
 "nbformat": 4,
 "nbformat_minor": 5
}
